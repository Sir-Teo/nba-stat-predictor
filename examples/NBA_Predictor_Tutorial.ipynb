{
  "cells": [
    {
      "cell_type": "raw",
      "metadata": {
        "vscode": {
          "languageId": "raw"
        }
      },
      "source": [
        "# NBA Stat Predictor - Interactive Tutorial\n",
        "\n",
        "Welcome to the NBA Stat Predictor! This notebook will guide you through using the system to predict NBA player statistics.\n",
        "\n",
        "## What You'll Learn\n",
        "- How to set up and configure the system\n",
        "- How to collect NBA data\n",
        "- How to train prediction models\n",
        "- How to make predictions for upcoming games\n",
        "- How to evaluate model performance\n",
        "\n",
        "## Prerequisites\n",
        "Make sure you have run the setup script:\n",
        "```bash\n",
        "python setup.py\n",
        "```\n"
      ]
    },
    {
      "cell_type": "code",
      "execution_count": null,
      "metadata": {},
      "outputs": [],
      "source": [
        "# Import necessary libraries\n",
        "import sys\n",
        "import os\n",
        "import pandas as pd\n",
        "import matplotlib.pyplot as plt\n",
        "import seaborn as sns\n",
        "from datetime import datetime, timedelta\n",
        "import sqlite3\n",
        "\n",
        "# Add src to path\n",
        "sys.path.append('src')\n",
        "\n",
        "# Import our modules\n",
        "from main import NBAStatPredictorApp\n",
        "from src.data.nba_data_collector import NBADataCollector\n",
        "from src.data.feature_engineer import FeatureEngineer\n",
        "from src.models.stat_predictors import ModelManager\n",
        "from src.predictions.tonight_predictor import TonightPredictor\n",
        "from src.evaluation.backtester import NBABacktester\n",
        "\n",
        "# Set up plotting\n",
        "plt.style.use('seaborn-v0_8')\n",
        "plt.rcParams['figure.figsize'] = (12, 8)\n",
        "\n",
        "print(\"✅ Setup complete!\")\n"
      ]
    },
    {
      "cell_type": "raw",
      "metadata": {
        "vscode": {
          "languageId": "raw"
        }
      },
      "source": [
        "## 1. Initialize the System\n",
        "\n",
        "Let's start by initializing our NBA Stat Predictor application:\n"
      ]
    },
    {
      "cell_type": "code",
      "execution_count": null,
      "metadata": {},
      "outputs": [],
      "source": [
        "# Initialize the NBA Stat Predictor\n",
        "app = NBAStatPredictorApp()\n",
        "\n",
        "# Check current database status\n",
        "conn = sqlite3.connect(app.db_path)\n",
        "cursor = conn.cursor()\n",
        "\n",
        "try:\n",
        "    cursor.execute(\"SELECT COUNT(*) FROM player_games\")\n",
        "    game_count = cursor.fetchone()[0]\n",
        "    \n",
        "    cursor.execute(\"SELECT COUNT(DISTINCT player_id) FROM player_games\")\n",
        "    player_count = cursor.fetchone()[0]\n",
        "    \n",
        "    cursor.execute(\"SELECT MIN(game_date), MAX(game_date) FROM player_games\")\n",
        "    date_range = cursor.fetchone()\n",
        "    \n",
        "    print(f\"📊 Current Database Status:\")\n",
        "    print(f\"   Total games: {game_count:,}\")\n",
        "    print(f\"   Unique players: {player_count}\")\n",
        "    print(f\"   Date range: {date_range[0]} to {date_range[1]}\")\n",
        "    \n",
        "except:\n",
        "    print(\"📊 Database is empty or not initialized\")\n",
        "    game_count = 0\n",
        "\n",
        "conn.close()\n",
        "\n",
        "print(f\"\\n{'✅' if game_count > 100 else '⚠️ '} System ready for {'predictions' if game_count > 100 else 'data collection'}\")\n"
      ]
    }
  ],
  "metadata": {
    "language_info": {
      "name": "python"
    }
  },
  "nbformat": 4,
  "nbformat_minor": 2
}
